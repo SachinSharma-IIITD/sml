{
 "cells": [
  {
   "cell_type": "markdown",
   "metadata": {},
   "source": [
    "SML Assignment-2\n",
    "Sachin Sharma\n",
    "2021559"
   ]
  },
  {
   "attachments": {},
   "cell_type": "markdown",
   "metadata": {},
   "source": [
    "Q1\n",
    "Detect and count outliers using Mahalanobis Distance, LOF and Otsu Thresholding"
   ]
  },
  {
   "cell_type": "code",
   "execution_count": 474,
   "metadata": {},
   "outputs": [],
   "source": [
    "import numpy as np \n",
    "import pandas as pd\n",
    "from sklearn.neighbors import NearestNeighbors"
   ]
  },
  {
   "cell_type": "code",
   "execution_count": 475,
   "metadata": {},
   "outputs": [],
   "source": [
    "def mahalanobis_dist(X):\n",
    "    distances = np.zeros(X.shape[0])\n",
    "    means = np.mean(X, axis=0)\n",
    "    inv_cov_matrix = np.linalg.inv(np.cov(X, rowvar=False))\n",
    "\n",
    "    for i in range(X.shape[0]):\n",
    "        distances[i] = np.sqrt(np.dot((X[i] - means).T, inv_cov_matrix.dot(X[i] - means)))\n",
    "\n",
    "    return distances"
   ]
  },
  {
   "cell_type": "code",
   "execution_count": 476,
   "metadata": {},
   "outputs": [],
   "source": [
    "def LOF(X, k=3):\n",
    "    N, n_features = X.shape\n",
    "\n",
    "    knn = NearestNeighbors(n_neighbors=k+1)\n",
    "    knn.fit(X)\n",
    "\n",
    "    distances, neighbours = knn.kneighbors(X)\n",
    "    distances = distances[:, 1:]\n",
    "    neighbours = neighbours[:, 1:]\n",
    "    k_distances = distances[:, -1]\n",
    "\n",
    "    reach_distances = np.zeros((N, k)).astype(np.float64)\n",
    "    for i in range(N):\n",
    "        for j in range(k):\n",
    "            reach_distances[i, j] = max(k_distances[neighbours[i][j]], distances[i, j])\n",
    "\n",
    "    # print(reach_distances)\n",
    "\n",
    "    lrd = np.zeros(N)\n",
    "    for i in range(N):\n",
    "        lrd[i] = k / np.sum(reach_distances[i, :])\n",
    "\n",
    "    # print(lrd.shape)\n",
    "\n",
    "    lof = np.zeros(N)\n",
    "    for i in range(N):\n",
    "        lof[i] = np.sum([lrd[neighbours[i][j]] for j in range(k)]) / (k * lrd[i])\n",
    "\n",
    "    return lof"
   ]
  },
  {
   "cell_type": "code",
   "execution_count": 477,
   "metadata": {},
   "outputs": [],
   "source": [
    "def otsu_thresholding(scores):\n",
    "    n = len(scores)\n",
    "    min_intra_class_var = np.inf\n",
    "    min_t = 0\n",
    "\n",
    "    for i in range(100):\n",
    "        t = ((np.max(scores) - np.min(scores)) / 100) * i + np.min(scores)\n",
    "        inliers, outliers = [], []\n",
    "\n",
    "        for j in range(n):\n",
    "            if scores[j] < t:\n",
    "                inliers.append(scores[j])\n",
    "            else:\n",
    "                outliers.append(scores[j])\n",
    "\n",
    "        prob_inliers = len(inliers) / n\n",
    "        prob_outliers = len(outliers) / n\n",
    "\n",
    "        var_inliers = np.var(inliers)\n",
    "        var_outliers = np.var(outliers)\n",
    "\n",
    "        intra_class_var = (prob_inliers * var_inliers) + (prob_outliers * var_outliers)\n",
    "\n",
    "        if intra_class_var < min_intra_class_var:\n",
    "            min_intra_class_var = intra_class_var\n",
    "            min_t = t\n",
    "\n",
    "    return min_t\n"
   ]
  },
  {
   "cell_type": "code",
   "execution_count": 478,
   "metadata": {},
   "outputs": [],
   "source": [
    "def get_outliers(X, scores, t):\n",
    "    n_outliers = 0\n",
    "    outlier_idx = []\n",
    "    outliers = []\n",
    "\n",
    "    for i, s in enumerate(scores):\n",
    "        if s > t:\n",
    "            n_outliers += 1\n",
    "            outliers.append(X[i])\n",
    "\n",
    "    return n_outliers, outliers"
   ]
  },
  {
   "cell_type": "code",
   "execution_count": 479,
   "metadata": {},
   "outputs": [],
   "source": [
    "dataset = pd.read_csv(r'glass.xls')\n",
    "\n",
    "y = pd.DataFrame(dataset, columns=['Type',]).to_numpy()\n",
    "X = dataset.drop('Type', axis=1).to_numpy()"
   ]
  },
  {
   "cell_type": "code",
   "execution_count": 480,
   "metadata": {},
   "outputs": [],
   "source": [
    "lof_scores = LOF(X)"
   ]
  },
  {
   "cell_type": "code",
   "execution_count": 481,
   "metadata": {},
   "outputs": [],
   "source": [
    "m_dist = mahalanobis_dist(X)"
   ]
  },
  {
   "cell_type": "code",
   "execution_count": 482,
   "metadata": {},
   "outputs": [
    {
     "name": "stdout",
     "output_type": "stream",
     "text": [
      "No of outliers detected using LOF: 9\n",
      "Outlier points are:\n",
      "\n",
      "[ 1.51409 14.25     3.09     2.08    72.28     1.1      7.08     0.\n",
      "  0.     ]\n",
      "[ 1.52725 13.8      3.15     0.66    70.57     0.08    11.64     0.\n",
      "  0.     ]\n",
      "[ 1.5241 13.83    2.9     1.17   71.15    0.08   10.79    0.      0.    ]\n",
      "[ 1.51299 14.4      1.74     1.54    74.55     0.       7.59     0.\n",
      "  0.     ]\n",
      "[ 1.51115 17.38     0.       0.34    75.41     0.       6.65     0.\n",
      "  0.     ]\n",
      "[ 1.51131 13.69     3.2      1.81    72.81     1.76     5.43     1.19\n",
      "  0.     ]\n",
      "[ 1.52365 15.79     1.83     1.31    70.43     0.31     8.61     1.68\n",
      "  0.     ]\n",
      "[ 1.51653 11.95     0.       1.19    75.18     2.7      8.93     0.\n",
      "  0.     ]\n",
      "[ 1.51831 14.39     0.       1.82    72.86     1.41     6.47     2.88\n",
      "  0.     ]\n"
     ]
    },
    {
     "name": "stderr",
     "output_type": "stream",
     "text": [
      "/home/sachin/code/sml/venv_ml/lib/python3.10/site-packages/numpy/core/fromnumeric.py:3747: RuntimeWarning: Degrees of freedom <= 0 for slice\n",
      "  return _methods._var(a, axis=axis, dtype=dtype, out=out, ddof=ddof,\n",
      "/home/sachin/code/sml/venv_ml/lib/python3.10/site-packages/numpy/core/_methods.py:226: RuntimeWarning: invalid value encountered in divide\n",
      "  arrmean = um.true_divide(arrmean, div, out=arrmean,\n",
      "/home/sachin/code/sml/venv_ml/lib/python3.10/site-packages/numpy/core/_methods.py:261: RuntimeWarning: invalid value encountered in scalar divide\n",
      "  ret = ret.dtype.type(ret / rcount)\n"
     ]
    }
   ],
   "source": [
    "opt_t_lof = otsu_thresholding(lof_scores)\n",
    "n_outliers_lof, outliers_lof = get_outliers(X, lof_scores, opt_t_lof)\n",
    "\n",
    "print(f'No of outliers detected using LOF: {n_outliers_lof}')\n",
    "print(f'Outlier points are:\\n')\n",
    "\n",
    "for i in outliers_lof:\n",
    "    print(i)"
   ]
  },
  {
   "cell_type": "code",
   "execution_count": 483,
   "metadata": {},
   "outputs": [
    {
     "name": "stdout",
     "output_type": "stream",
     "text": [
      "No of outliers detected using Mahalanobis Distance: 29\n",
      "Outlier points are:\n",
      "\n",
      "[1.52667e+00 1.39900e+01 3.70000e+00 7.10000e-01 7.15700e+01 2.00000e-02\n",
      " 9.82000e+00 0.00000e+00 1.00000e-01]\n",
      "[ 1.51215 12.99     3.47     1.12    72.98     0.62     8.35     0.\n",
      "  0.31   ]\n",
      "[ 1.52475 11.45     0.       1.88    72.19     0.81    13.24     0.\n",
      "  0.34   ]\n",
      "[ 1.53125 10.73     0.       2.1     69.81     0.58    13.3      3.15\n",
      "  0.28   ]\n",
      "[ 1.53393 12.3      0.       1.      70.16     0.12    16.19     0.\n",
      "  0.24   ]\n",
      "[ 1.51818 13.72     0.       0.56    74.45     0.      10.99     0.\n",
      "  0.     ]\n",
      "[ 1.52664 11.23     0.       0.77    73.21     0.      14.68     0.\n",
      "  0.     ]\n",
      "[ 1.52739 11.02     0.       0.75    73.08     0.      14.96     0.\n",
      "  0.     ]\n",
      "[1.52777e+00 1.26400e+01 0.00000e+00 6.70000e-01 7.20200e+01 6.00000e-02\n",
      " 1.44000e+01 0.00000e+00 0.00000e+00]\n",
      "[ 1.52177 13.2      3.68     1.15    72.75     0.54     8.52     0.\n",
      "  0.     ]\n",
      "[ 1.51643 12.16     3.52     1.35    72.89     0.57     8.53     0.\n",
      "  0.     ]\n",
      "[ 1.52211 14.19     3.78     0.91    71.36     0.23     9.14     0.\n",
      "  0.37   ]\n",
      "[ 1.51514 14.01     2.68     3.5     69.89     1.68     5.87     2.2\n",
      "  0.     ]\n",
      "[ 1.52151 11.03     1.71     1.56    73.44     0.58    11.62     0.\n",
      "  0.     ]\n",
      "[ 1.51316 13.02     0.       3.04    70.48     6.21     6.96     0.\n",
      "  0.     ]\n",
      "[ 1.51321 13.       0.       3.02    70.7      6.21     6.93     0.\n",
      "  0.     ]\n",
      "[ 1.52043 13.38     0.       1.4     72.25     0.33    12.5      0.\n",
      "  0.     ]\n",
      "[ 1.52058 12.85     1.61     2.17    72.18     0.76     9.7      0.24\n",
      "  0.51   ]\n",
      "[ 1.51969 14.56     0.       0.56    73.48     0.      11.22     0.\n",
      "  0.     ]\n",
      "[ 1.51115 17.38     0.       0.34    75.41     0.       6.65     0.\n",
      "  0.     ]\n",
      "[ 1.51131 13.69     3.2      1.81    72.81     1.76     5.43     1.19\n",
      "  0.     ]\n",
      "[ 1.51838 14.32     3.26     2.22    71.25     1.46     5.79     1.63\n",
      "  0.     ]\n",
      "[ 1.52315 13.44     3.34     1.23    72.38     0.6      8.83     0.\n",
      "  0.     ]\n",
      "[ 1.52247 14.86     2.2      2.06    70.26     0.76     9.76     0.\n",
      "  0.     ]\n",
      "[ 1.52365 15.79     1.83     1.31    70.43     0.31     8.61     1.68\n",
      "  0.     ]\n",
      "[1.51623e+00 1.42000e+01 0.00000e+00 2.79000e+00 7.34600e+01 4.00000e-02\n",
      " 9.04000e+00 4.00000e-01 9.00000e-02]\n",
      "[ 1.51653 11.95     0.       1.19    75.18     2.7      8.93     0.\n",
      "  0.     ]\n",
      "[ 1.51831 14.39     0.       1.82    72.86     1.41     6.47     2.88\n",
      "  0.     ]\n",
      "[ 1.52065 14.36     0.       2.02    73.42     0.       8.44     1.64\n",
      "  0.     ]\n"
     ]
    }
   ],
   "source": [
    "opt_t_mh = otsu_thresholding(m_dist)\n",
    "n_outliers_mh, outliers_mh = get_outliers(X, m_dist, opt_t_mh)\n",
    "\n",
    "print(f'No of outliers detected using Mahalanobis Distance: {n_outliers_mh}')\n",
    "print(f'Outlier points are:\\n')\n",
    "\n",
    "for i in outliers_mh:\n",
    "    print(i)"
   ]
  }
 ],
 "metadata": {
  "kernelspec": {
   "display_name": "venv_ml",
   "language": "python",
   "name": "python3"
  },
  "language_info": {
   "codemirror_mode": {
    "name": "ipython",
    "version": 3
   },
   "file_extension": ".py",
   "mimetype": "text/x-python",
   "name": "python",
   "nbconvert_exporter": "python",
   "pygments_lexer": "ipython3",
   "version": "3.10.6"
  },
  "orig_nbformat": 4
 },
 "nbformat": 4,
 "nbformat_minor": 2
}
