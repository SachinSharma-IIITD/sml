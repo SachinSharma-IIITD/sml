{
 "cells": [
  {
   "attachments": {},
   "cell_type": "markdown",
   "metadata": {},
   "source": [
    "SML Assignment-2\n",
    "Sachin Sharma\n",
    "2021559"
   ]
  },
  {
   "attachments": {},
   "cell_type": "markdown",
   "metadata": {},
   "source": [
    "Q2\n",
    "Logistics Regression using FDA, PCA + FDA"
   ]
  },
  {
   "cell_type": "code",
   "execution_count": 489,
   "metadata": {},
   "outputs": [],
   "source": [
    "import numpy as np \n",
    "import pandas as pd\n",
    "from sklearn.model_selection import train_test_split"
   ]
  },
  {
   "cell_type": "code",
   "execution_count": 490,
   "metadata": {},
   "outputs": [],
   "source": [
    "class FDA:\n",
    "    def __init__(self) -> None:\n",
    "        self.w = []\n",
    "\n",
    "    def fit(self, X, y):\n",
    "        classes = np.unique(y)\n",
    "        X_0 = X[y == classes[0]]\n",
    "        X_1 = X[y == classes[1]]\n",
    "        n_0 = X_0.shape[0]\n",
    "        n_1 = X_1.shape[0]\n",
    "        centroid_0 = np.mean(X_0, axis=0)\n",
    "        centroid_1 = np.mean(X_1, axis=0)\n",
    "\n",
    "        diff_0 = X_0 - centroid_0\n",
    "        S_0 = np.dot(diff_0.T, diff_0) / (n_0 - 1)\n",
    "        diff_1 = X_1 - centroid_1\n",
    "        S_1 = np.dot(diff_1.T, diff_1) / (n_1 - 1)\n",
    "\n",
    "        A = n_0 * S_0 + n_1 * S_1\n",
    "        centroid_0 = centroid_0[:, np.newaxis]\n",
    "        centroid_1 = centroid_1[:, np.newaxis]\n",
    "        self.w = np.array(np.dot(np.linalg.inv(A), (centroid_0 - centroid_1)))\n",
    "        self.w = self.w / np.linalg.norm(self.w)\n",
    "\n",
    "\n",
    "    def transform(self, X):\n",
    "        return np.dot(X, self.w)"
   ]
  },
  {
   "cell_type": "code",
   "execution_count": 491,
   "metadata": {},
   "outputs": [],
   "source": [
    "class PCA:\n",
    "    def __init__(self, n_comps) -> None:\n",
    "        self.n_comps = n_comps\n",
    "\n",
    "    def fit(self, X):\n",
    "        means = np.mean(X, axis=0)\n",
    "        standard_dev = np.sqrt(np.mean(np.square(X - means)))\n",
    "        X = X - means\n",
    "        cov_matrix = np.cov(X, rowvar=False)\n",
    "\n",
    "        eigen_values, eigen_vectors = np.linalg.eig(cov_matrix)\n",
    "        pairs = [(np.abs(eigen_values[i]), eigen_vectors.T[i]) for i in range(len(eigen_values))]\n",
    "        pairs = sorted(pairs, key=lambda x: x[0], reverse=True)\n",
    "\n",
    "        self.W = np.vstack([pairs[i][1] for i in range(self.n_comps)]).T\n",
    "\n",
    "    def transform(self, X):\n",
    "        return np.dot(X, self.W)"
   ]
  },
  {
   "cell_type": "code",
   "execution_count": 492,
   "metadata": {},
   "outputs": [],
   "source": [
    "class LogisticRegression:\n",
    "    def __init__(self, learning_rate=0.1, max_iter=1000):\n",
    "        self.learning_rate = learning_rate\n",
    "        self.max_iter = max_iter\n",
    "\n",
    "    def fit(self, X, y: np.ndarray):\n",
    "        N, n_features = X.shape\n",
    "        # Add a column of ones to X for bias term\n",
    "        X = np.c_[np.ones(N), X]\n",
    "        n_features += 1\n",
    "\n",
    "        y = y[:, np.newaxis]\n",
    "\n",
    "        # Initialize the weights to zeros\n",
    "        self.w = np.zeros(n_features)[:, np.newaxis]\n",
    "\n",
    "        # Update the weights using gradient descent\n",
    "        for i in range(self.max_iter):\n",
    "            z = np.dot(X, self.w)\n",
    "            y_pred = np.array(self._sigmoid(z))\n",
    "            grad = np.dot(X.T, (y_pred - y)) / y.size\n",
    "            self.w -= self.learning_rate * grad\n",
    "\n",
    "    def predict(self, X):\n",
    "        N, n_features = X.shape\n",
    "\n",
    "        # Add a column of ones to X for bias term\n",
    "        X = np.c_[np.ones(N), X]\n",
    "\n",
    "        # Predict the probabilities of the positive class\n",
    "        X_proj = np.dot(X, self.w).reshape(N)\n",
    "        proba = self._sigmoid(X_proj).reshape(N)\n",
    "\n",
    "        # Classify as 1 if the probability is >= 0.5, otherwise as 0\n",
    "        y_pred = np.where(proba >= 0.5, 1, 0)\n",
    "        return y_pred.reshape(N)\n",
    "\n",
    "    def _sigmoid(self, z: np.ndarray) -> float:\n",
    "        z = z.astype(np.float128)\n",
    "        return 1 / (1 + np.exp(-z))"
   ]
  },
  {
   "cell_type": "code",
   "execution_count": 493,
   "metadata": {},
   "outputs": [],
   "source": [
    "def accuracy_score(actual, predicted):\n",
    "    correct = 0\n",
    "    for i in range(len(actual)):\n",
    "        if actual[i] == predicted[i]:\n",
    "            correct += 1\n",
    "    \n",
    "    return correct / float(len(actual)) * 100.0"
   ]
  },
  {
   "cell_type": "code",
   "execution_count": 494,
   "metadata": {},
   "outputs": [],
   "source": [
    "def map_to_numeric(X: pd.DataFrame):\n",
    "    mapper = {}\n",
    "    for c in X.columns:\n",
    "        if X[c].dtypes == 'object':\n",
    "            mapper[c] = {}\n",
    "            i = 0\n",
    "            for r in range(len(X[c])):\n",
    "                if X[c][r] not in mapper[c]:\n",
    "                    mapper[c][X[c][r]] = i\n",
    "                    i += 1\n",
    "                X[c][r] = mapper[c][X[c][r]]\n",
    "            X[c] = pd.to_numeric(X[c])\n",
    "    return X"
   ]
  },
  {
   "cell_type": "code",
   "execution_count": 495,
   "metadata": {},
   "outputs": [],
   "source": [
    "dataset = pd.read_csv(r'Heart.csv')\n",
    "dataset.dropna(inplace=True)\n",
    "dataset.reset_index(drop=True, inplace=True)"
   ]
  },
  {
   "cell_type": "code",
   "execution_count": 496,
   "metadata": {},
   "outputs": [
    {
     "name": "stderr",
     "output_type": "stream",
     "text": [
      "/tmp/ipykernel_20353/2145939614.py:11: SettingWithCopyWarning: \n",
      "A value is trying to be set on a copy of a slice from a DataFrame\n",
      "\n",
      "See the caveats in the documentation: https://pandas.pydata.org/pandas-docs/stable/user_guide/indexing.html#returning-a-view-versus-a-copy\n",
      "  X[c][r] = mapper[c][X[c][r]]\n"
     ]
    }
   ],
   "source": [
    "y = pd.DataFrame(dataset, columns=['AHD',])\n",
    "X = dataset.drop(['Unnamed: 0', 'AHD'], axis=1)\n",
    "\n",
    "N, n_features = X.shape\n",
    "\n",
    "X = np.array(map_to_numeric(X))\n",
    "y = np.array(map_to_numeric(y)).reshape(N)"
   ]
  },
  {
   "cell_type": "code",
   "execution_count": 497,
   "metadata": {},
   "outputs": [],
   "source": [
    "X_train, X_test, y_train, y_test = train_test_split(X, y, test_size=0.2, random_state=42)"
   ]
  },
  {
   "cell_type": "code",
   "execution_count": 498,
   "metadata": {},
   "outputs": [],
   "source": [
    "fda = FDA()\n",
    "fda.fit(X_train, y_train)"
   ]
  },
  {
   "cell_type": "code",
   "execution_count": 499,
   "metadata": {},
   "outputs": [],
   "source": [
    "X_train_FDA = np.array(fda.transform(X_train))\n",
    "X_test_FDA = np.array(fda.transform(X_test))"
   ]
  },
  {
   "cell_type": "code",
   "execution_count": 500,
   "metadata": {},
   "outputs": [],
   "source": [
    "pca = PCA(n_comps=2)\n",
    "pca.fit(X_train)"
   ]
  },
  {
   "cell_type": "code",
   "execution_count": 501,
   "metadata": {},
   "outputs": [],
   "source": [
    "X_train_PCA = np.array(pca.transform(X_train))\n",
    "X_test_PCA = np.array(pca.transform(X_test))"
   ]
  },
  {
   "cell_type": "code",
   "execution_count": 502,
   "metadata": {},
   "outputs": [],
   "source": [
    "fda_after_pca = FDA()\n",
    "fda_after_pca.fit(X_train_PCA, y_train)"
   ]
  },
  {
   "cell_type": "code",
   "execution_count": 503,
   "metadata": {},
   "outputs": [],
   "source": [
    "X_train_PCA_FDA = np.array(fda_after_pca.transform(X_train_PCA))\n",
    "X_test_PCA_FDA = np.array(fda_after_pca.transform(X_test_PCA))"
   ]
  },
  {
   "cell_type": "code",
   "execution_count": 504,
   "metadata": {},
   "outputs": [],
   "source": [
    "model_FDA = LogisticRegression()\n",
    "model_FDA.fit(X_train_FDA, y_train)\n",
    "\n",
    "model_PCA = LogisticRegression()\n",
    "model_PCA.fit(X_train_PCA, y_train)\n",
    "\n",
    "model_PCA_FDA = LogisticRegression()\n",
    "model_PCA_FDA.fit(X_train_PCA_FDA, y_train)"
   ]
  },
  {
   "cell_type": "code",
   "execution_count": 505,
   "metadata": {},
   "outputs": [
    {
     "name": "stdout",
     "output_type": "stream",
     "text": [
      "Accuracy after FDA: 88.33333333333333\n"
     ]
    }
   ],
   "source": [
    "y_pred_FDA = model_FDA.predict(X_test_FDA)\n",
    "accuracy_FDA = accuracy_score(y_test, y_pred_FDA)\n",
    "print(f'Accuracy after FDA: {accuracy_FDA}')"
   ]
  },
  {
   "cell_type": "code",
   "execution_count": 506,
   "metadata": {},
   "outputs": [],
   "source": [
    "y_pred_PCA = model_PCA.predict(X_test_PCA)\n",
    "accuracy_PCA = accuracy_score(y_test, y_pred_PCA)\n",
    "# print(f'Accuracy after PCA: {accuracy_PCA}')"
   ]
  },
  {
   "cell_type": "code",
   "execution_count": 507,
   "metadata": {},
   "outputs": [
    {
     "name": "stdout",
     "output_type": "stream",
     "text": [
      "Accuracy after PCA + LDA: 60.0\n"
     ]
    }
   ],
   "source": [
    "y_pred_PCA_FDA = model_PCA_FDA.predict(X_test_PCA_FDA)\n",
    "accuracy_PCA_FDA = accuracy_score(y_test, y_pred_PCA_FDA)\n",
    "print(f'Accuracy after PCA + LDA: {accuracy_PCA_FDA}')"
   ]
  }
 ],
 "metadata": {
  "kernelspec": {
   "display_name": "venv_ml",
   "language": "python",
   "name": "python3"
  },
  "language_info": {
   "codemirror_mode": {
    "name": "ipython",
    "version": 3
   },
   "file_extension": ".py",
   "mimetype": "text/x-python",
   "name": "python",
   "nbconvert_exporter": "python",
   "pygments_lexer": "ipython3",
   "version": "3.10.6"
  },
  "orig_nbformat": 4,
  "vscode": {
   "interpreter": {
    "hash": "f12add8d7d1491f1633c140fab80efa052358f726b8aa4ae04b72793675210fa"
   }
  }
 },
 "nbformat": 4,
 "nbformat_minor": 2
}
