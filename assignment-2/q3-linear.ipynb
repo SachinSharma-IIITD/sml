{
 "cells": [
  {
   "cell_type": "markdown",
   "metadata": {},
   "source": [
    "SML Assignment-2\n",
    "Sachin Sharma\n",
    "2021559"
   ]
  },
  {
   "attachments": {},
   "cell_type": "markdown",
   "metadata": {},
   "source": [
    "Q3\n",
    "Linar Regression using Normal Equation Method"
   ]
  },
  {
   "cell_type": "code",
   "execution_count": 29,
   "metadata": {},
   "outputs": [],
   "source": [
    "import numpy as np\n",
    "import pandas as pd\n",
    "from sklearn.model_selection import train_test_split"
   ]
  },
  {
   "cell_type": "code",
   "execution_count": 30,
   "metadata": {},
   "outputs": [],
   "source": [
    "def find_theta(X, y: np.ndarray):\n",
    "    \n",
    "    m = X.shape[0]\n",
    "    X = np.append(X, np.ones((m,1)), axis=1)\n",
    "    \n",
    "    # The Normal Equation\n",
    "    theta = np.dot(np.linalg.inv(np.dot(X.T, X)), np.dot(X.T, y))\n",
    "    return theta"
   ]
  },
  {
   "cell_type": "code",
   "execution_count": 31,
   "metadata": {},
   "outputs": [],
   "source": [
    "def predict(X, theta):\n",
    "    \n",
    "    # Appending a cloumn of ones in X to add the bias term.\n",
    "    X = np.append(X, np.ones((X.shape[0],1)), axis=1)\n",
    "    \n",
    "    # preds is y_hat which is the dot product of X and theta.\n",
    "    preds = np.dot(X, theta)\n",
    "    \n",
    "    return preds"
   ]
  },
  {
   "cell_type": "code",
   "execution_count": 32,
   "metadata": {},
   "outputs": [],
   "source": [
    "def cal_rmse(y, y_pred):\n",
    "    return np.sqrt(np.mean(np.square(y - y_pred)))"
   ]
  },
  {
   "cell_type": "code",
   "execution_count": 33,
   "metadata": {},
   "outputs": [],
   "source": [
    "def cal_r2_score(y, y_pred):\n",
    "    rss = np.mean(np.square(y - y_pred))\n",
    "    tss = np.mean(np.square(y - np.mean(y_pred)))\n",
    "    r2 = 1 - (rss / tss)\n",
    "    return r2"
   ]
  },
  {
   "cell_type": "code",
   "execution_count": 34,
   "metadata": {},
   "outputs": [],
   "source": [
    "dataset = pd.read_csv(r'Real estate.csv')\n",
    "\n",
    "y = pd.DataFrame(dataset, columns=['Y house price of unit area',]).to_numpy()\n",
    "X = dataset.drop(['No', 'Y house price of unit area'], axis=1)"
   ]
  },
  {
   "cell_type": "code",
   "execution_count": 35,
   "metadata": {},
   "outputs": [],
   "source": [
    "X_train, X_test, y_train, y_test = train_test_split(X, y, test_size = 0.2, random_state = 0)"
   ]
  },
  {
   "cell_type": "code",
   "execution_count": 36,
   "metadata": {},
   "outputs": [],
   "source": [
    "theta = find_theta(X_train, y_train)\n",
    "y_train_pred = predict(X_train, theta)\n",
    "y_test_pred = predict(X_test, theta)"
   ]
  },
  {
   "cell_type": "code",
   "execution_count": 37,
   "metadata": {},
   "outputs": [
    {
     "name": "stdout",
     "output_type": "stream",
     "text": [
      "Training: Root Mean Squared Error: 9.031894345861884\n"
     ]
    }
   ],
   "source": [
    "rmse = cal_rmse(y_train, y_train_pred)\n",
    "print(f'Training: Root Mean Squared Error: {rmse}')"
   ]
  },
  {
   "cell_type": "code",
   "execution_count": 38,
   "metadata": {},
   "outputs": [
    {
     "name": "stdout",
     "output_type": "stream",
     "text": [
      "Testing: Root Mean Squared Error: 7.715078388489465\n"
     ]
    }
   ],
   "source": [
    "rmse = cal_rmse(y_test, y_test_pred)\n",
    "print(f'Testing: Root Mean Squared Error: {rmse}')"
   ]
  },
  {
   "cell_type": "code",
   "execution_count": 39,
   "metadata": {},
   "outputs": [
    {
     "name": "stdout",
     "output_type": "stream",
     "text": [
      "Testing: R2 Score: 0.5648053492261405\n"
     ]
    }
   ],
   "source": [
    "r2 = cal_r2_score(y_train, y_train_pred)\n",
    "print(f'Testing: R2 Score: {r2}')"
   ]
  },
  {
   "cell_type": "code",
   "execution_count": 40,
   "metadata": {},
   "outputs": [
    {
     "name": "stdout",
     "output_type": "stream",
     "text": [
      "Testing: R2 Score: 0.6574766393350995\n"
     ]
    }
   ],
   "source": [
    "r2 = cal_r2_score(y_test, y_test_pred)\n",
    "print(f'Testing: R2 Score: {r2}')"
   ]
  },
  {
   "attachments": {},
   "cell_type": "markdown",
   "metadata": {},
   "source": [
    "Limitations of Normal Equation Method:\n",
    "1. It is specific to only Linear Regression and cannot be applied on any other algorithm\n",
    "2. It is not a general purpose method and is not suitable for high dimensional data\n",
    "3. The number of training samples should be small, around 20,000"
   ]
  }
 ],
 "metadata": {
  "kernelspec": {
   "display_name": "venv_ml",
   "language": "python",
   "name": "python3"
  },
  "language_info": {
   "codemirror_mode": {
    "name": "ipython",
    "version": 3
   },
   "file_extension": ".py",
   "mimetype": "text/x-python",
   "name": "python",
   "nbconvert_exporter": "python",
   "pygments_lexer": "ipython3",
   "version": "3.10.6"
  },
  "orig_nbformat": 4
 },
 "nbformat": 4,
 "nbformat_minor": 2
}
