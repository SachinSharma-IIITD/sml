{
 "cells": [
  {
   "cell_type": "markdown",
   "metadata": {},
   "source": [
    "SML Assignment-2\n",
    "Sachin Sharma\n",
    "2021559"
   ]
  },
  {
   "attachments": {},
   "cell_type": "markdown",
   "metadata": {},
   "source": [
    "Q5\n",
    "Multiclass Logistics Regression"
   ]
  },
  {
   "cell_type": "code",
   "execution_count": 50,
   "metadata": {},
   "outputs": [],
   "source": [
    "import numpy as np\n",
    "import matplotlib.pyplot as mtp\n",
    "from sklearn.datasets import load_iris\n",
    "from sklearn.model_selection import train_test_split"
   ]
  },
  {
   "cell_type": "code",
   "execution_count": 51,
   "metadata": {},
   "outputs": [],
   "source": [
    "class Multiclass_Logistic_Regression:\n",
    "    def __init__(self, learning_rate=0.02, max_iter=1000):\n",
    "        self.learning_rate = learning_rate\n",
    "        self.max_iter = max_iter\n",
    "\n",
    "    def grad(self, X, y, i):\n",
    "        N, n_features = X.shape\n",
    "        theta = np.zeros(n_features)\n",
    "\n",
    "        for _ in range(self.max_iter):\n",
    "            h = self.sigmoid(X.dot(theta))\n",
    "            gradient = np.dot(X.T, (h - y)) / N\n",
    "            theta -= self.learning_rate * gradient\n",
    "\n",
    "        self.coef[i] = theta\n",
    "\n",
    "    def fit(self, X, y):\n",
    "        self.classes = np.unique(y)\n",
    "        self.coef = np.zeros((len(self.classes), X.shape[1]))\n",
    "\n",
    "        for i, j in enumerate(self.classes):\n",
    "            binary_y = np.where(y == j, 1, 0)\n",
    "            self.grad(X, binary_y, i)\n",
    "\n",
    "    def predict(self, X):\n",
    "        scores = []\n",
    "        for i, _ in enumerate(self.classes):\n",
    "            scores.append(self.sigmoid(X.dot(self.coef[i])))\n",
    "        scores = np.array(scores).T\n",
    "        return self.classes[np.argmax(scores, axis=1)]\n",
    "\n",
    "    def sigmoid(self, z):\n",
    "        return 1 / (1 + np.exp(-z))"
   ]
  },
  {
   "cell_type": "code",
   "execution_count": 52,
   "metadata": {},
   "outputs": [],
   "source": [
    "def accuracy_score(actual, predicted):\n",
    "    correct = 0\n",
    "    for i in range(len(actual)):\n",
    "        if actual[i] == predicted[i]:\n",
    "            correct += 1\n",
    "    \n",
    "    return correct / float(len(actual)) * 100.0"
   ]
  },
  {
   "cell_type": "code",
   "execution_count": 53,
   "metadata": {},
   "outputs": [],
   "source": [
    "dataset = load_iris()\n",
    "X = dataset.data\n",
    "y = dataset.target\n",
    "x_train, x_test, y_train, y_test = train_test_split(X, y, test_size=0.2, random_state=0)"
   ]
  },
  {
   "cell_type": "code",
   "execution_count": 54,
   "metadata": {},
   "outputs": [],
   "source": [
    "model = Multiclass_Logistic_Regression(learning_rate=0.1, max_iter=1001)\n",
    "model.fit(x_train, y_train)"
   ]
  },
  {
   "cell_type": "code",
   "execution_count": 55,
   "metadata": {},
   "outputs": [],
   "source": [
    "y_pred = model.predict(x_test)"
   ]
  },
  {
   "cell_type": "code",
   "execution_count": 56,
   "metadata": {},
   "outputs": [
    {
     "name": "stdout",
     "output_type": "stream",
     "text": [
      "Accuracy Multiclass Logistic Regression: 96.66666666666667\n",
      "No, it does not provide better results than Q4\n"
     ]
    }
   ],
   "source": [
    "accuracy = accuracy_score(y_test, y_pred)\n",
    "print(\"Accuracy Multiclass Logistic Regression:\", accuracy)\n",
    "print(\"No, it does not provide better results than Q4\")"
   ]
  }
 ],
 "metadata": {
  "kernelspec": {
   "display_name": "venv_ml",
   "language": "python",
   "name": "python3"
  },
  "language_info": {
   "codemirror_mode": {
    "name": "ipython",
    "version": 3
   },
   "file_extension": ".py",
   "mimetype": "text/x-python",
   "name": "python",
   "nbconvert_exporter": "python",
   "pygments_lexer": "ipython3",
   "version": "3.10.6"
  },
  "orig_nbformat": 4
 },
 "nbformat": 4,
 "nbformat_minor": 2
}
