{
 "cells": [
  {
   "cell_type": "code",
   "execution_count": 52,
   "metadata": {},
   "outputs": [],
   "source": [
    "import numpy as np\n",
    "import pandas as pd\n",
    "from sklearn.model_selection import train_test_split\n",
    "from sklearn.neural_network import MLPRegressor"
   ]
  },
  {
   "cell_type": "code",
   "execution_count": 53,
   "metadata": {},
   "outputs": [],
   "source": [
    "data_size = 100\n",
    "mean = 0\n",
    "std_dev = 1\n",
    "gen_data_x1 = np.random.normal(mean, std_dev, (data_size,)) + 1j*np.random.normal(mean, std_dev, (data_size,))\n",
    "gen_data_x2 = np.random.normal(mean, std_dev, (data_size,)) + 1j*np.random.normal(mean, std_dev, (data_size,))"
   ]
  },
  {
   "cell_type": "code",
   "execution_count": 54,
   "metadata": {},
   "outputs": [],
   "source": [
    "Add = np.add\n",
    "Subtract = np.subtract\n",
    "Multiply = np.multiply\n",
    "Divide = np.divide"
   ]
  },
  {
   "cell_type": "code",
   "execution_count": 55,
   "metadata": {},
   "outputs": [],
   "source": [
    "def complex_to_2d_array(c):\n",
    "    return np.column_stack((np.real(c), np.imag(c)))\n",
    "\n",
    "# Prepare the data for the deep learning model\n",
    "gen_data = np.column_stack((complex_to_2d_array(gen_data_x1), complex_to_2d_array(gen_data_x2)))\n",
    "calculated_outputs = np.column_stack((complex_to_2d_array(Add(gen_data_x1, gen_data_x2)), \n",
    "                                      complex_to_2d_array(Subtract(gen_data_x1, gen_data_x2)), \n",
    "                                      complex_to_2d_array(Multiply(gen_data_x1, gen_data_x2)), \n",
    "                                      complex_to_2d_array(Divide(gen_data_x1, gen_data_x2))))"
   ]
  },
  {
   "cell_type": "code",
   "execution_count": 56,
   "metadata": {},
   "outputs": [],
   "source": [
    "gen_data_df = pd.DataFrame(gen_data, columns=['Real_x1', 'Imag_x1', 'Real_x2', 'Imag_x2'])\n",
    "calculated_outputs_df = pd.DataFrame(calculated_outputs, columns=['Real_add', 'Imag_add', 'Real_sub', 'Imag_sub', 'Real_mul', 'Imag_mul', 'Real_div', 'Imag_div'])\n",
    "gen_data_df = pd.concat([gen_data_df, calculated_outputs_df], axis=1)\n",
    "gen_data_df.to_csv('../data/Generated_Data.csv', index=False)"
   ]
  },
  {
   "cell_type": "code",
   "execution_count": 57,
   "metadata": {},
   "outputs": [],
   "source": [
    "train_data, val_data = train_test_split(gen_data, test_size=0.2, random_state=42)\n",
    "train_targets, val_targets = train_test_split(calculated_outputs, test_size=0.2, random_state=42)"
   ]
  },
  {
   "cell_type": "code",
   "execution_count": 58,
   "metadata": {},
   "outputs": [
    {
     "name": "stdout",
     "output_type": "stream",
     "text": [
      "2.7010590580575835\n"
     ]
    },
    {
     "name": "stderr",
     "output_type": "stream",
     "text": [
      "/home/sachin/code/sml/venv_ml/lib/python3.10/site-packages/sklearn/neural_network/_multilayer_perceptron.py:686: ConvergenceWarning: Stochastic Optimizer: Maximum iterations (10) reached and the optimization hasn't converged yet.\n",
      "  warnings.warn(\n"
     ]
    }
   ],
   "source": [
    "mlp = MLPRegressor(\n",
    "    hidden_layer_sizes=(64, 32, 16, 8),solver='adam',max_iter=10)\n",
    "mlp.fit(train_data, train_targets)\n",
    "\n",
    "y_pred = mlp.predict(val_data)\n",
    "print(np.mean((y_pred - val_targets) ** 2))"
   ]
  },
  {
   "cell_type": "code",
   "execution_count": 59,
   "metadata": {},
   "outputs": [],
   "source": [
    "test_data_x1 = np.random.normal(mean, std_dev, (data_size,)) + 1j*np.random.normal(mean, std_dev, (data_size,))\n",
    "test_data_x2 = np.random.normal(mean, std_dev, (data_size,)) + 1j*np.random.normal(mean, std_dev, (data_size,))"
   ]
  },
  {
   "cell_type": "code",
   "execution_count": 60,
   "metadata": {},
   "outputs": [],
   "source": [
    "test_data = np.column_stack((complex_to_2d_array(test_data_x1), complex_to_2d_array(test_data_x2)))\n",
    "test_calculated_outputs = np.column_stack((complex_to_2d_array(Add(test_data_x1, test_data_x2)), \n",
    "                                      complex_to_2d_array(Subtract(test_data_x1, test_data_x2)), \n",
    "                                      complex_to_2d_array(Multiply(test_data_x1, test_data_x2)), \n",
    "                                      complex_to_2d_array(Divide(test_data_x1, test_data_x2))))"
   ]
  },
  {
   "cell_type": "code",
   "execution_count": 61,
   "metadata": {},
   "outputs": [],
   "source": [
    "test_data_df = pd.DataFrame(val_data, columns=['Real_x1', 'Imag_x1', 'Real_x2', 'Imag_x2'])\n",
    "test_calculated_outputs_df = pd.DataFrame(test_calculated_outputs, columns=['Real_add', 'Imag_add', 'Real_sub', 'Imag_sub', 'Real_mul', 'Imag_mul', 'Real_div', 'Imag_div'])\n",
    "test_data_df = pd.concat([test_data_df, test_calculated_outputs_df], axis=1)\n",
    "test_data_df.to_csv('../data/Predictions.csv', index=False)"
   ]
  },
  {
   "cell_type": "code",
   "execution_count": 62,
   "metadata": {},
   "outputs": [
    {
     "name": "stdout",
     "output_type": "stream",
     "text": [
      "2.5205997138638154\n"
     ]
    }
   ],
   "source": [
    "y_pred_test = mlp.predict(test_data)\n",
    "print(np.mean((y_pred_test - test_calculated_outputs) ** 2))"
   ]
  }
 ],
 "metadata": {
  "kernelspec": {
   "display_name": "venv_ml",
   "language": "python",
   "name": "python3"
  },
  "language_info": {
   "codemirror_mode": {
    "name": "ipython",
    "version": 3
   },
   "file_extension": ".py",
   "mimetype": "text/x-python",
   "name": "python",
   "nbconvert_exporter": "python",
   "pygments_lexer": "ipython3",
   "version": "3.10.6"
  },
  "orig_nbformat": 4
 },
 "nbformat": 4,
 "nbformat_minor": 2
}
