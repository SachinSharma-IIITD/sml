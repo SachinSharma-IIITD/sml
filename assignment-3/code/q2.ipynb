{
 "cells": [
  {
   "cell_type": "code",
   "execution_count": 1,
   "metadata": {},
   "outputs": [],
   "source": [
    "import numpy as np\n",
    "from sklearn.datasets import load_iris\n",
    "from sklearn.model_selection import train_test_split\n",
    "from collections import Counter\n",
    "from sklearn.metrics import accuracy_score\n",
    "from pprint import pprint"
   ]
  },
  {
   "cell_type": "code",
   "execution_count": 2,
   "metadata": {},
   "outputs": [],
   "source": [
    "class Node:\n",
    "    def __init__(self, feature=None, threshold=1e-4, left=None, right=None, value=None):\n",
    "        self.left = left\n",
    "        self.right = right\n",
    "        self.value = value\n",
    "        self.feature = feature\n",
    "        self.threshold = threshold"
   ]
  },
  {
   "cell_type": "code",
   "execution_count": 3,
   "metadata": {},
   "outputs": [],
   "source": [
    "class DecisionTreeClassifier:\n",
    "    def __init__(self, max_depth=5):\n",
    "        self.max_depth = max_depth\n",
    "\n",
    "    def fit(self, X, y):\n",
    "        self.n_features_ = X.shape[1]\n",
    "        self.tree_ = self.splitting(X, y)\n",
    "        return self.tree_\n",
    "\n",
    "    def predict(self, X):\n",
    "        def traverse(node):\n",
    "            if node.left is None:\n",
    "                return node.value\n",
    "            if x[node.feature] < node.threshold:\n",
    "                return traverse(node.left)\n",
    "            else:\n",
    "                return traverse(node.right)\n",
    "\n",
    "        predictions = []\n",
    "        for x in X:\n",
    "            predictions.append(traverse(self.tree_))\n",
    "        return predictions\n",
    "\n",
    "    def splitting(self, X, y, depth=0):\n",
    "        n_labels = len(np.unique(y))\n",
    "        no_of_samples = X.shape[0]\n",
    "        no_of_features = X.shape[1]\n",
    "\n",
    "        if n_labels == 1 :\n",
    "            return Node(value=Counter(y).most_common(1)[0][0])\n",
    "        elif no_of_samples < 2:\n",
    "            return Node(value=Counter(y).most_common(1)[0][0])\n",
    "        elif depth == self.max_depth:\n",
    "            return Node(value=Counter(y).most_common(1)[0][0])\n",
    "\n",
    "        best_criteria = np.inf\n",
    "        best_feature = None\n",
    "        best_threshold = None\n",
    "        for feature in range(no_of_features):\n",
    "            thresholds = np.unique(X[:, feature])\n",
    "            criteria = np.array([len(y[X[:, feature] < threshold]) * self._entropy(y[X[:, feature] < threshold]) +\n",
    "                                len(y[X[:, feature] >= threshold]) * self._entropy(y[X[:, feature] >= threshold])\n",
    "                                for threshold in thresholds])\n",
    "            best_threshold_idx = np.argmin(criteria)\n",
    "            if criteria[best_threshold_idx] < best_criteria:\n",
    "                best_criteria = criteria[best_threshold_idx]\n",
    "                best_feature = feature\n",
    "                best_threshold = thresholds[best_threshold_idx]\n",
    "\n",
    "        mask = X[:, best_feature] < best_threshold\n",
    "        X_left, X_right = np.split(X, [mask.sum()])\n",
    "        y_left, y_right = np.split(y, [mask.sum()])\n",
    "\n",
    "        left = self.splitting(X_left, y_left, depth + 1)\n",
    "        right = self.splitting(X_right, y_right, depth + 1)\n",
    "\n",
    "        return Node(feature=best_feature, threshold=best_threshold, left=left, right=right)\n",
    "\n",
    "    def _entropy(self, y):\n",
    "        n = len(y)\n",
    "        unique_labels = np.unique(y)\n",
    "        entropy = 0.0\n",
    "        for label in unique_labels:\n",
    "            p = np.sum(y == label) / n\n",
    "            entropy -= p * np.log2(p)\n",
    "        return entropy\n",
    "\n",
    "    def accuracy(self, predicted_y, actual_y):\n",
    "        return accuracy_score(predicted_y, actual_y)\n"
   ]
  },
  {
   "cell_type": "code",
   "execution_count": 4,
   "metadata": {},
   "outputs": [],
   "source": [
    "dataset = load_iris()\n",
    "X = dataset.data\n",
    "y = dataset.target"
   ]
  },
  {
   "cell_type": "code",
   "execution_count": 5,
   "metadata": {},
   "outputs": [],
   "source": [
    "X_train, X_test, y_train, y_test = train_test_split(\n",
    "    X, y, test_size=0.2, random_state=42)"
   ]
  },
  {
   "cell_type": "code",
   "execution_count": 6,
   "metadata": {},
   "outputs": [],
   "source": [
    "model = DecisionTreeClassifier(max_depth=5)\n",
    "tree = model.fit(X_train, y_train)"
   ]
  },
  {
   "cell_type": "code",
   "execution_count": 7,
   "metadata": {},
   "outputs": [],
   "source": [
    "y_pred = model.predict(X_test)"
   ]
  },
  {
   "cell_type": "code",
   "execution_count": 8,
   "metadata": {},
   "outputs": [
    {
     "name": "stdout",
     "output_type": "stream",
     "text": [
      "Accuracy:\n",
      "0.9333333333333333\n"
     ]
    }
   ],
   "source": [
    "print(\"Accuracy:\")\n",
    "print(model.accuracy(y_pred, y_test))"
   ]
  }
 ],
 "metadata": {
  "kernelspec": {
   "display_name": "venv_ml",
   "language": "python",
   "name": "python3"
  },
  "language_info": {
   "codemirror_mode": {
    "name": "ipython",
    "version": 3
   },
   "file_extension": ".py",
   "mimetype": "text/x-python",
   "name": "python",
   "nbconvert_exporter": "python",
   "pygments_lexer": "ipython3",
   "version": "3.10.6"
  },
  "orig_nbformat": 4
 },
 "nbformat": 4,
 "nbformat_minor": 2
}
